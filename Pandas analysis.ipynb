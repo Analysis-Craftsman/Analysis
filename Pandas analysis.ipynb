{
 "cells": [
  {
   "cell_type": "code",
   "execution_count": 1,
   "metadata": {},
   "outputs": [
    {
     "name": "stdout",
     "output_type": "stream",
     "text": [
      "-첫 번째 정보--------------------------------\n",
      "0      라면\n",
      "1     볶음밥\n",
      "2       껌\n",
      "3      김치\n",
      "4      과자\n",
      "5     음료수\n",
      "6      생수\n",
      "7      우유\n",
      "8     도시락\n",
      "9     머리끈\n",
      "10     담배\n",
      "Name: 상품, dtype: object\n",
      "count     11\n",
      "unique    11\n",
      "top       과자\n",
      "freq       1\n",
      "Name: 상품, dtype: object\n",
      "------------------------------------------\n"
     ]
    }
   ],
   "source": [
    "# '빅'데이터 분석을 위해 반드시 필요한 파이썬의 데이터 가상저장 전문 프레임워크 판다스를 이용해 탐색분석\n",
    "import pandas as pd\n",
    "\n",
    "excel = pd.read_excel( \"./051.xlsx\" )\n",
    "dataframe = pd.DataFrame( excel )\n",
    "column_count = len( dataframe.columns )\n",
    "row_count = len( dataframe )\n",
    "\n",
    "print( \"-첫 번째 정보--------------------------------\" )\n",
    "print( dataframe[\"상품\"] )\n",
    "print( dataframe.상품.describe() )\n",
    "print( \"------------------------------------------\" )"
   ]
  },
  {
   "cell_type": "code",
   "execution_count": 2,
   "metadata": {},
   "outputs": [
    {
     "name": "stdout",
     "output_type": "stream",
     "text": [
      "-두 번째 정보--------------------------------\n",
      "0      3500\n",
      "1      7700\n",
      "2      1000\n",
      "3      2500\n",
      "4      1500\n",
      "5      4500\n",
      "6      1900\n",
      "7      2200\n",
      "8     12000\n",
      "9      1200\n",
      "10     4500\n",
      "Name: 가격, dtype: int64\n",
      "count       11.000000\n",
      "mean      3863.636364\n",
      "std       3335.048044\n",
      "min       1000.000000\n",
      "25%       1700.000000\n",
      "50%       2500.000000\n",
      "75%       4500.000000\n",
      "max      12000.000000\n",
      "Name: 가격, dtype: float64\n",
      "------------------------------------------\n"
     ]
    }
   ],
   "source": [
    "print( \"-두 번째 정보--------------------------------\" )\n",
    "print( dataframe[\"가격\"] )\n",
    "print( dataframe.가격.describe() )\n",
    "print( \"------------------------------------------\" )"
   ]
  },
  {
   "cell_type": "code",
   "execution_count": 3,
   "metadata": {},
   "outputs": [
    {
     "name": "stdout",
     "output_type": "stream",
     "text": [
      "-세 번째 정보--------------------------------\n",
      "0     2.5\n",
      "1     3.5\n",
      "2     5.0\n",
      "3     4.3\n",
      "4     2.1\n",
      "5     3.3\n",
      "6     2.7\n",
      "7     1.5\n",
      "8     3.5\n",
      "9     1.2\n",
      "10    7.5\n",
      "Name: 평점, dtype: float64\n",
      "count    11.000000\n",
      "mean      3.372727\n",
      "std       1.778815\n",
      "min       1.200000\n",
      "25%       2.300000\n",
      "50%       3.300000\n",
      "75%       3.900000\n",
      "max       7.500000\n",
      "Name: 평점, dtype: float64\n",
      "------------------------------------------\n"
     ]
    }
   ],
   "source": [
    "print( \"-세 번째 정보--------------------------------\" )\n",
    "print( dataframe[\"평점\"] )\n",
    "print( dataframe.평점.describe() )\n",
    "print( \"------------------------------------------\" )"
   ]
  },
  {
   "cell_type": "code",
   "execution_count": 4,
   "metadata": {},
   "outputs": [
    {
     "name": "stdout",
     "output_type": "stream",
     "text": [
      "-네 번째 정보--------------------------------\n",
      "<class 'pandas.core.frame.DataFrame'>\n",
      "RangeIndex: 11 entries, 0 to 10\n",
      "Data columns (total 3 columns):\n",
      " #   Column  Non-Null Count  Dtype  \n",
      "---  ------  --------------  -----  \n",
      " 0   상품      11 non-null     object \n",
      " 1   가격      11 non-null     int64  \n",
      " 2   평점      11 non-null     float64\n",
      "dtypes: float64(1), int64(1), object(1)\n",
      "memory usage: 392.0+ bytes\n",
      "None\n",
      "------------------------------------------\n"
     ]
    }
   ],
   "source": [
    "print( \"-네 번째 정보--------------------------------\" )\n",
    "print( dataframe.info() )\n",
    "print( \"------------------------------------------\" )"
   ]
  },
  {
   "cell_type": "code",
   "execution_count": 5,
   "metadata": {},
   "outputs": [
    {
     "name": "stdout",
     "output_type": "stream",
     "text": [
      "-다섯 번째 정보------------------------------\n",
      "    상품    가격   평점\n",
      "0   라면  3500  2.5\n",
      "1  볶음밥  7700  3.5\n",
      "2    껌  1000  5.0\n",
      "3   김치  2500  4.3\n",
      "4   과자  1500  2.1\n",
      "------------------------------------------\n"
     ]
    }
   ],
   "source": [
    "print( \"-다섯 번째 정보------------------------------\" )\n",
    "print( dataframe.head() )\n",
    "print( \"------------------------------------------\" )"
   ]
  },
  {
   "cell_type": "code",
   "execution_count": 6,
   "metadata": {},
   "outputs": [
    {
     "name": "stdout",
     "output_type": "stream",
     "text": [
      "-여섯 번째 정보------------------------------\n",
      "고객이 라면과 도시락을 구매하였습니다. 얼마입니까?\n",
      "가격은 15,500 입니다.\n",
      "------------------------------------------\n"
     ]
    }
   ],
   "source": [
    "print( \"-여섯 번째 정보------------------------------\" )\n",
    "print(\"고객이 라면과 도시락을 구매하였습니다. 얼마입니까?\")\n",
    "purchase = 0\n",
    "\n",
    "for row in range( row_count ) :\n",
    "    if dataframe[\"상품\"][row] == \"라면\" or dataframe[\"상품\"][row] == \"도시락\" :\n",
    "        purchase += dataframe[\"가격\"][row]\n",
    "    else :\n",
    "        pass\n",
    "\n",
    "print( \"가격은\", format(purchase, ','), \"입니다.\" )\n",
    "print( \"------------------------------------------\" ) "
   ]
  },
  {
   "cell_type": "code",
   "execution_count": 7,
   "metadata": {},
   "outputs": [
    {
     "name": "stdout",
     "output_type": "stream",
     "text": [
      "-일곱 번째 정보------------------------------\n",
      "상품      라면\n",
      "가격    3500\n",
      "평점     2.5\n",
      "Name: 0, dtype: object\n",
      "라면\n",
      "3500\n",
      "2.5\n",
      "------------------------------------------\n"
     ]
    }
   ],
   "source": [
    "print( \"-일곱 번째 정보------------------------------\" )\n",
    "print( dataframe.iloc[0] )\n",
    "print( dataframe.iloc[0][0] )\n",
    "print( dataframe.iloc[0][1] )\n",
    "print( dataframe.iloc[0][-1] )\n",
    "print( \"------------------------------------------\" ) "
   ]
  },
  {
   "cell_type": "code",
   "execution_count": null,
   "metadata": {},
   "outputs": [],
   "source": []
  }
 ],
 "metadata": {
  "kernelspec": {
   "display_name": "Python 3",
   "language": "python",
   "name": "python3"
  },
  "language_info": {
   "codemirror_mode": {
    "name": "ipython",
    "version": 3
   },
   "file_extension": ".py",
   "mimetype": "text/x-python",
   "name": "python",
   "nbconvert_exporter": "python",
   "pygments_lexer": "ipython3",
   "version": "3.8.3"
  }
 },
 "nbformat": 4,
 "nbformat_minor": 4
}
