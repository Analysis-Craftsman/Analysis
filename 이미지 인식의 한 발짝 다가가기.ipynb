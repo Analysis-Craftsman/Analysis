{
 "cells": [
  {
   "cell_type": "code",
   "execution_count": 1,
   "metadata": {},
   "outputs": [
    {
     "name": "stderr",
     "output_type": "stream",
     "text": [
      "Using TensorFlow backend.\n"
     ]
    }
   ],
   "source": [
    "from keras.datasets import mnist\n",
    "from sklearn import svm, metrics\n",
    "import numpy as np"
   ]
  },
  {
   "cell_type": "code",
   "execution_count": 2,
   "metadata": {},
   "outputs": [],
   "source": [
    "(X_train, Y_train), (X_validation, Y_validation) = mnist.load_data()"
   ]
  },
  {
   "cell_type": "code",
   "execution_count": 3,
   "metadata": {},
   "outputs": [
    {
     "name": "stdout",
     "output_type": "stream",
     "text": [
      "  0   0   0   0   0   0   0   0   0   0   0   0   0   0   0   0   0   0   0   0   0   0   0   0   0   0   0   0 \n",
      "  0   0   0   0   0   0   0   0   0   0   0   0   0   0   0   0   0   0   0   0   0   0   0   0   0   0   0   0 \n",
      "  0   0   0   0   0   0   0   0   0   0   0   0   0   0   0   0   0   0   0   0   0   0   0   0   0   0   0   0 \n",
      "  0   0   0   0   0   0   0   0   0   0   0   0   0   0   0   0   0   0   0   0   0   0   0   0   0   0   0   0 \n",
      "  0   0   0   0   0   0   0   0   0   0   0   0   0   0   0   0   0   0   0   0   0   0   0   0   0   0   0   0 \n",
      "  0   0   0   0   0   0   0   0   0   0   0   0   3  18  18  18 126 136 175  26 166 255 247 127   0   0   0   0 \n",
      "  0   0   0   0   0   0   0   0  30  36  94 154 170 253 253 253 253 253 225 172 253 242 195  64   0   0   0   0 \n",
      "  0   0   0   0   0   0   0  49 238 253 253 253 253 253 253 253 253 251  93  82  82  56  39   0   0   0   0   0 \n",
      "  0   0   0   0   0   0   0  18 219 253 253 253 253 253 198 182 247 241   0   0   0   0   0   0   0   0   0   0 \n",
      "  0   0   0   0   0   0   0   0  80 156 107 253 253 205  11   0  43 154   0   0   0   0   0   0   0   0   0   0 \n",
      "  0   0   0   0   0   0   0   0   0  14   1 154 253  90   0   0   0   0   0   0   0   0   0   0   0   0   0   0 \n",
      "  0   0   0   0   0   0   0   0   0   0   0 139 253 190   2   0   0   0   0   0   0   0   0   0   0   0   0   0 \n",
      "  0   0   0   0   0   0   0   0   0   0   0  11 190 253  70   0   0   0   0   0   0   0   0   0   0   0   0   0 \n",
      "  0   0   0   0   0   0   0   0   0   0   0   0  35 241 225 160 108   1   0   0   0   0   0   0   0   0   0   0 \n",
      "  0   0   0   0   0   0   0   0   0   0   0   0   0  81 240 253 253 119  25   0   0   0   0   0   0   0   0   0 \n",
      "  0   0   0   0   0   0   0   0   0   0   0   0   0   0  45 186 253 253 150  27   0   0   0   0   0   0   0   0 \n",
      "  0   0   0   0   0   0   0   0   0   0   0   0   0   0   0  16  93 252 253 187   0   0   0   0   0   0   0   0 \n",
      "  0   0   0   0   0   0   0   0   0   0   0   0   0   0   0   0   0 249 253 249  64   0   0   0   0   0   0   0 \n",
      "  0   0   0   0   0   0   0   0   0   0   0   0   0   0  46 130 183 253 253 207   2   0   0   0   0   0   0   0 \n",
      "  0   0   0   0   0   0   0   0   0   0   0   0  39 148 229 253 253 253 250 182   0   0   0   0   0   0   0   0 \n",
      "  0   0   0   0   0   0   0   0   0   0  24 114 221 253 253 253 253 201  78   0   0   0   0   0   0   0   0   0 \n",
      "  0   0   0   0   0   0   0   0  23  66 213 253 253 253 253 198  81   2   0   0   0   0   0   0   0   0   0   0 \n",
      "  0   0   0   0   0   0  18 171 219 253 253 253 253 195  80   9   0   0   0   0   0   0   0   0   0   0   0   0 \n",
      "  0   0   0   0  55 172 226 253 253 253 253 244 133  11   0   0   0   0   0   0   0   0   0   0   0   0   0   0 \n",
      "  0   0   0   0 136 253 253 253 212 135 132  16   0   0   0   0   0   0   0   0   0   0   0   0   0   0   0   0 \n",
      "  0   0   0   0   0   0   0   0   0   0   0   0   0   0   0   0   0   0   0   0   0   0   0   0   0   0   0   0 \n",
      "  0   0   0   0   0   0   0   0   0   0   0   0   0   0   0   0   0   0   0   0   0   0   0   0   0   0   0   0 \n",
      "  0   0   0   0   0   0   0   0   0   0   0   0   0   0   0   0   0   0   0   0   0   0   0   0   0   0   0   0 \n"
     ]
    }
   ],
   "source": [
    "for x in X_train[0]:\n",
    "    for i in x:\n",
    "        print('{:3} '.format(i), end='')\n",
    "    print()"
   ]
  },
  {
   "cell_type": "code",
   "execution_count": 4,
   "metadata": {},
   "outputs": [],
   "source": [
    "X_train = [np.concatenate(i) for i in X_train]\n",
    "X_validation = [np.concatenate(i) for i in X_validation]\n",
    "\n",
    "# TP(True Positive) = 실제값이 True 인데, 예측값도 True 인 경우 = 잘 정리된 경우\n",
    "# FP(False Positive) = 실제값이 False 인데, 예측값이 True 인 경우 = 잘못된 경우\n",
    "# FN(False Negative) = 실제값이 True 인데, 예측값도 False 인 경우 = 잘못된 경우\n",
    "# TN(True Negative) = 실제값이 False 인데, 예측값이 False 인 경우 = 잘 정리된 경우\n",
    "\n",
    "# 정밀도(precision) = 실제 기계가 True 라고 예측한 것 중 실제 True 인 것의 비율 입니다. (TP / (TP+FP))\n",
    "# 재현율(recall) = 실제 True인 것 중에서 기계가 실제 True라고 예측한 것의 비율입니다. (TP / (TP+FN))\n",
    "# F1-Score = 정밀도와 재현율의 적절한 중간을 찾는 값(조화평균 이용)\n",
    "\n",
    "# 정밀도란 모델이 True라고 분류한 것 중에서 실제 True인 것의 비율입니다. 즉, 아래와 같은 식으로 표현할 수 있습니다.\n",
    "# 재현율이란 실제 True인 것 중에서 모델이 True라고 예측한 것의 비율입니다. "
   ]
  },
  {
   "cell_type": "code",
   "execution_count": 5,
   "metadata": {},
   "outputs": [
    {
     "name": "stdout",
     "output_type": "stream",
     "text": [
      "기존의 데이터 : [7 2 1 0 4 1 4 9 5 9 0 6 9 0 1 5 9 7 3 4 9 6 6 5 4 0 7 4 0 1 3 1 3 4 7 2 7\n",
      " 1 2 1 1 7 4 2 3 5 1 2 4 4 6 3 5 5 6 0 4 1 9 5 7 8 9 3 7 4 6 4 3 0 7 0 2 9\n",
      " 1 7 3 2 9 7 7 6 2 7 8 4 7 3 6 1 3 6 9 3 1 4 1 7 6 9]\n",
      "예측된 데이터 : [7 2 1 0 4 1 9 4 4 9 0 4 9 0 1 3 4 7 3 4 9 6 4 4 4 0 7 4 0 1 3 1 3 4 9 2 7\n",
      " 1 1 1 1 7 4 1 3 3 1 4 4 4 6 3 4 3 4 0 4 1 4 4 3 2 4 2 4 4 4 4 3 0 7 0 2 8\n",
      " 1 7 3 7 9 7 4 6 2 7 4 4 7 3 4 1 3 6 4 3 1 4 1 3 6 4]\n",
      "\n",
      "정답률: 0.68\n",
      "리포트:               precision    recall  f1-score   support\n",
      "\n",
      "           0       1.00      1.00      1.00         8\n",
      "           1       1.00      0.88      0.93        16\n",
      "           2       0.50      0.67      0.57         6\n",
      "           3       0.91      0.67      0.77        15\n",
      "           4       0.93      0.41      0.57        32\n",
      "           5       0.00      0.00      0.00         0\n",
      "           6       0.50      1.00      0.67         5\n",
      "           7       0.67      0.91      0.77        11\n",
      "           8       0.00      0.00      0.00         1\n",
      "           9       0.36      0.67      0.47         6\n",
      "\n",
      "    accuracy                           0.68       100\n",
      "   macro avg       0.59      0.62      0.57       100\n",
      "weighted avg       0.82      0.68      0.71       100\n",
      "\n"
     ]
    },
    {
     "name": "stderr",
     "output_type": "stream",
     "text": [
      "/Library/Frameworks/Python.framework/Versions/3.8/lib/python3.8/site-packages/sklearn/metrics/_classification.py:1272: UndefinedMetricWarning: Recall and F-score are ill-defined and being set to 0.0 in labels with no true samples. Use `zero_division` parameter to control this behavior.\n",
      "  _warn_prf(average, modifier, msg_start, len(result))\n"
     ]
    }
   ],
   "source": [
    "study = svm.SVC()\n",
    "study.fit(X_train[0:100], Y_train[0:100])\n",
    "predict = study.predict(X_validation[0:100])\n",
    "\n",
    "print(\"기존의 데이터 :\", Y_validation[0:100])\n",
    "print(\"예측된 데이터 :\", predict[0:100])\n",
    "\n",
    "print()\n",
    "\n",
    "acc_score = metrics.accuracy_score( predict, Y_validation[0:100] )\n",
    "cl_report = metrics.classification_report( predict, Y_validation[0:100] )\n",
    "\n",
    "print( \"정답률:\", acc_score )\n",
    "print( \"리포트:\", cl_report )"
   ]
  },
  {
   "cell_type": "code",
   "execution_count": 6,
   "metadata": {},
   "outputs": [
    {
     "name": "stdout",
     "output_type": "stream",
     "text": [
      "기존의 데이터 : [7 2 1 0 4 1 4 9 5 9 0 6 9 0 1 5 9 7 3 4 9 6 6 5 4 0 7 4 0 1 3 1 3 4 7 2 7\n",
      " 1 2 1 1 7 4 2 3 5 1 2 4 4 6 3 5 5 6 0 4 1 9 5 7 8 9 3 7 4 6 4 3 0 7 0 2 9\n",
      " 1 7 3 2 9 7 7 6 2 7 8 4 7 3 6 1 3 6 9 3 1 4 1 7 6 9]\n",
      "예측된 데이터 : [7 2 1 0 4 1 4 9 2 9 0 6 9 0 1 5 9 7 3 4 9 6 4 5 4 0 7 4 0 1 3 1 3 4 7 2 7\n",
      " 1 2 1 1 7 4 2 5 5 1 2 4 4 6 3 5 5 2 0 4 1 9 5 7 8 9 2 7 4 2 4 3 0 7 0 2 7\n",
      " 1 7 3 7 9 7 9 6 2 7 8 4 7 5 6 1 3 6 9 3 1 4 1 7 6 9]\n",
      "\n",
      "정답률: 0.875\n",
      "리포트:               precision    recall  f1-score   support\n",
      "\n",
      "           0       0.95      0.91      0.93        89\n",
      "           1       0.98      0.98      0.98       127\n",
      "           2       0.88      0.91      0.89       112\n",
      "           3       0.75      0.94      0.83        85\n",
      "           4       0.86      0.85      0.86       112\n",
      "           5       0.86      0.73      0.79       103\n",
      "           6       0.87      0.92      0.89        83\n",
      "           7       0.90      0.84      0.87       106\n",
      "           8       0.78      0.86      0.82        80\n",
      "           9       0.89      0.82      0.85       103\n",
      "\n",
      "    accuracy                           0.88      1000\n",
      "   macro avg       0.87      0.87      0.87      1000\n",
      "weighted avg       0.88      0.88      0.87      1000\n",
      "\n"
     ]
    }
   ],
   "source": [
    "study = svm.SVC()\n",
    "study.fit(X_train[0:1000], Y_train[0:1000])\n",
    "predict = study.predict(X_validation[0:1000])\n",
    "\n",
    "print(\"기존의 데이터 :\", Y_validation[0:100])\n",
    "print(\"예측된 데이터 :\", predict[0:100])\n",
    "\n",
    "print()\n",
    "\n",
    "acc_score = metrics.accuracy_score( predict, Y_validation[0:1000] )\n",
    "cl_report = metrics.classification_report( predict, Y_validation[0:1000] )\n",
    "\n",
    "print( \"정답률:\", acc_score )\n",
    "print( \"리포트:\", cl_report )"
   ]
  },
  {
   "cell_type": "code",
   "execution_count": 7,
   "metadata": {},
   "outputs": [
    {
     "name": "stdout",
     "output_type": "stream",
     "text": [
      "기존의 데이터 : [7 2 1 0 4 1 4 9 5 9 0 6 9 0 1 5 9 7 3 4 9 6 6 5 4 0 7 4 0 1 3 1 3 4 7 2 7\n",
      " 1 2 1 1 7 4 2 3 5 1 2 4 4 6 3 5 5 6 0 4 1 9 5 7 8 9 3 7 4 6 4 3 0 7 0 2 9\n",
      " 1 7 3 2 9 7 7 6 2 7 8 4 7 3 6 1 3 6 9 3 1 4 1 7 6 9]\n",
      "예측된 데이터 : [7 6 1 0 4 1 4 9 1 9 0 6 9 0 1 5 9 7 3 4 9 6 6 5 4 0 7 4 0 1 3 1 3 4 7 2 7\n",
      " 1 5 1 1 7 4 2 5 5 1 2 4 4 6 3 5 5 6 0 4 1 9 5 7 2 9 9 7 4 2 4 3 0 7 0 2 7\n",
      " 1 7 3 2 9 7 7 6 2 7 8 4 7 3 6 1 3 6 9 3 1 4 1 7 6 7]\n",
      "\n",
      "정답률: 0.807\n",
      "리포트:               precision    recall  f1-score   support\n",
      "\n",
      "           0       0.93      0.95      0.94        83\n",
      "           1       0.99      0.95      0.97       132\n",
      "           2       0.78      0.86      0.81       105\n",
      "           3       0.68      0.80      0.74        91\n",
      "           4       0.84      0.94      0.88        98\n",
      "           5       0.75      0.66      0.70        98\n",
      "           6       0.85      0.89      0.87        83\n",
      "           7       0.87      0.71      0.78       121\n",
      "           8       0.66      0.64      0.65        92\n",
      "           9       0.68      0.66      0.67        97\n",
      "\n",
      "    accuracy                           0.81      1000\n",
      "   macro avg       0.80      0.81      0.80      1000\n",
      "weighted avg       0.81      0.81      0.81      1000\n",
      "\n"
     ]
    },
    {
     "name": "stderr",
     "output_type": "stream",
     "text": [
      "/Library/Frameworks/Python.framework/Versions/3.8/lib/python3.8/site-packages/sklearn/svm/_base.py:946: ConvergenceWarning: Liblinear failed to converge, increase the number of iterations.\n",
      "  warnings.warn(\"Liblinear failed to converge, increase \"\n"
     ]
    }
   ],
   "source": [
    "study = svm.LinearSVC()\n",
    "study.fit(X_train[0:1000], Y_train[0:1000])\n",
    "predict = study.predict(X_validation[0:1000])\n",
    "\n",
    "print(\"기존의 데이터 :\", Y_validation[0:100])\n",
    "print(\"예측된 데이터 :\", predict[0:100])\n",
    "\n",
    "print()\n",
    "\n",
    "acc_score = metrics.accuracy_score( predict, Y_validation[0:1000] )\n",
    "cl_report = metrics.classification_report( predict, Y_validation[0:1000] )\n",
    "\n",
    "print( \"정답률:\", acc_score )\n",
    "print( \"리포트:\", cl_report )"
   ]
  },
  {
   "cell_type": "code",
   "execution_count": 8,
   "metadata": {},
   "outputs": [
    {
     "name": "stdout",
     "output_type": "stream",
     "text": [
      "기존의 데이터 : [7 2 1 ... 4 5 6]\n",
      "예측된 데이터 : [7 2 1 ... 4 5 6]\n",
      "\n",
      "정답률: 0.858\n",
      "리포트:               precision    recall  f1-score   support\n",
      "\n",
      "           0       0.94      0.93      0.93       993\n",
      "           1       0.97      0.94      0.95      1171\n",
      "           2       0.83      0.88      0.85       971\n",
      "           3       0.88      0.80      0.84      1111\n",
      "           4       0.86      0.88      0.87       969\n",
      "           5       0.77      0.83      0.80       832\n",
      "           6       0.91      0.89      0.90       982\n",
      "           7       0.85      0.90      0.87       973\n",
      "           8       0.68      0.82      0.74       810\n",
      "           9       0.87      0.74      0.80      1188\n",
      "\n",
      "    accuracy                           0.86     10000\n",
      "   macro avg       0.86      0.86      0.86     10000\n",
      "weighted avg       0.86      0.86      0.86     10000\n",
      "\n"
     ]
    },
    {
     "name": "stderr",
     "output_type": "stream",
     "text": [
      "/Library/Frameworks/Python.framework/Versions/3.8/lib/python3.8/site-packages/sklearn/svm/_base.py:946: ConvergenceWarning: Liblinear failed to converge, increase the number of iterations.\n",
      "  warnings.warn(\"Liblinear failed to converge, increase \"\n"
     ]
    }
   ],
   "source": [
    "study = svm.LinearSVC()\n",
    "study.fit(X_train[0:10000], Y_train[0:10000])\n",
    "predict = study.predict(X_validation[0:10000])\n",
    "\n",
    "print(\"기존의 데이터 :\", Y_validation[0:10000])\n",
    "print(\"예측된 데이터 :\", predict[0:10000])\n",
    "\n",
    "print()\n",
    "\n",
    "acc_score = metrics.accuracy_score( predict, Y_validation[0:10000] )\n",
    "cl_report = metrics.classification_report( predict, Y_validation[0:10000] )\n",
    "\n",
    "print( \"정답률:\", acc_score )\n",
    "print( \"리포트:\", cl_report )"
   ]
  },
  {
   "cell_type": "code",
   "execution_count": 9,
   "metadata": {},
   "outputs": [
    {
     "name": "stdout",
     "output_type": "stream",
     "text": [
      "기존의 데이터 : [7 2 1 0 4 1 4 9 5 9 0 6 9 0 1 5 9 7 3 4 9 6 6 5 4 0 7 4 0 1 3 1 3 4 7 2 7\n",
      " 1 2 1 1 7 4 2 3 5 1 2 4 4 6 3 5 5 6 0 4 1 9 5 7 8 9 3 7 4 6 4 3 0 7 0 2 9\n",
      " 1 7 3 2 9 7 7 6 2 7 8 4 7 3 6 1 3 6 9 3 1 4 1 7 6 9]\n",
      "예측된 데이터 : [7 2 1 0 4 1 4 9 6 9 0 6 9 0 1 5 9 7 3 4 9 6 6 5 4 0 7 4 0 1 3 1 3 4 7 2 7\n",
      " 1 2 1 1 7 4 2 3 5 1 2 4 4 6 3 5 5 6 0 4 1 9 5 7 8 9 3 7 4 6 4 3 0 7 0 2 9\n",
      " 1 7 3 2 9 7 7 6 2 7 8 4 7 3 6 1 3 6 9 3 1 4 1 7 6 9]\n",
      "\n",
      "정답률: 0.9742\n",
      "리포트:               precision    recall  f1-score   support\n",
      "\n",
      "           0       0.99      0.98      0.98       993\n",
      "           1       0.99      0.99      0.99      1141\n",
      "           2       0.98      0.97      0.97      1039\n",
      "           3       0.98      0.97      0.97      1015\n",
      "           4       0.98      0.97      0.97       984\n",
      "           5       0.97      0.98      0.97       887\n",
      "           6       0.98      0.98      0.98       958\n",
      "           7       0.96      0.97      0.96      1019\n",
      "           8       0.97      0.97      0.97       974\n",
      "           9       0.95      0.97      0.96       990\n",
      "\n",
      "    accuracy                           0.97     10000\n",
      "   macro avg       0.97      0.97      0.97     10000\n",
      "weighted avg       0.97      0.97      0.97     10000\n",
      "\n"
     ]
    }
   ],
   "source": [
    "study = svm.SVC()\n",
    "study.fit(X_train[0:30000], Y_train[0:30000])\n",
    "predict = study.predict(X_validation[0:30000])\n",
    "\n",
    "print(\"기존의 데이터 :\", Y_validation[0:100])\n",
    "print(\"예측된 데이터 :\", predict[0:100])\n",
    "\n",
    "print()\n",
    "\n",
    "acc_score = metrics.accuracy_score( predict, Y_validation[0:30000] )\n",
    "cl_report = metrics.classification_report( predict, Y_validation[0:30000] )\n",
    "\n",
    "print( \"정답률:\", acc_score )\n",
    "print( \"리포트:\", cl_report )"
   ]
  }
 ],
 "metadata": {
  "kernelspec": {
   "display_name": "Python 3",
   "language": "python",
   "name": "python3"
  },
  "language_info": {
   "codemirror_mode": {
    "name": "ipython",
    "version": 3
   },
   "file_extension": ".py",
   "mimetype": "text/x-python",
   "name": "python",
   "nbconvert_exporter": "python",
   "pygments_lexer": "ipython3",
   "version": "3.8.3"
  }
 },
 "nbformat": 4,
 "nbformat_minor": 4
}
