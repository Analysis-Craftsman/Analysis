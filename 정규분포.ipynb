{
 "cells": [
  {
   "cell_type": "code",
   "execution_count": 4,
   "metadata": {},
   "outputs": [],
   "source": [
    "import random\n",
    "import numpy as np\n",
    "import matplotlib.pyplot as plt\n",
    "import math\n",
    "\n",
    "point = [] # 고객 평점"
   ]
  },
  {
   "cell_type": "code",
   "execution_count": 5,
   "metadata": {},
   "outputs": [],
   "source": [
    "# 데이터 분석과 사례를 보여드리기 위해 어쩔 수 없는 평점 조작(?)\n",
    "for pt in range( 1000 ) : # 1000!\n",
    "    point.append( random.randint(0, 39) )\n",
    "\n",
    "for pt in range( 3000 ) : # 3000!\n",
    "    point.append( random.randint(40, 69) )\n",
    "\n",
    "for pt in range( 1000 ) : # 1000?\n",
    "    point.append( random.randint(70, 100) )"
   ]
  },
  {
   "cell_type": "code",
   "execution_count": 6,
   "metadata": {},
   "outputs": [
    {
     "name": "stdout",
     "output_type": "stream",
     "text": [
      "---------------------------------------------------------------------------\n"
     ]
    },
    {
     "data": {
      "image/png": "[encoded data removed]",
      "text/plain": [
       "<Figure size 432x288 with 1 Axes>"
      ]
     },
     "metadata": {
      "needs_background": "light"
     },
     "output_type": "display_data"
    },
    {
     "name": "stdout",
     "output_type": "stream",
     "text": [
      "---------------------------------------------------------------------------\n"
     ]
    }
   ],
   "source": [
    "# 도수분포 데이터 처리/구간 설정 및 시각화\n",
    "hist, bins = np.histogram(point, np.arange( 0, 100, 5 ))\n",
    "\n",
    "print(\"---------------------------------------------------------------------------\")\n",
    "plt.hist(point, bins, color=\"red\")\n",
    "plt.xlabel('Point (pt)', fontsize = 14)\n",
    "plt.title(\"Freq\")\n",
    "plt.xticks(fontsize = 14)\n",
    "plt.yticks(fontsize = 14)\n",
    "plt.show()\n",
    "print(\"---------------------------------------------------------------------------\")"
   ]
  },
  {
   "cell_type": "code",
   "execution_count": 7,
   "metadata": {},
   "outputs": [
    {
     "name": "stdout",
     "output_type": "stream",
     "text": [
      "-정규분포--------------------------------------------------------------------------\n",
      "X의 평균 : 54.0 , X의 표준편차 : 23.0\n"
     ]
    },
    {
     "data": {
      "image/png": "[encoded data removed]",
      "text/plain": [
       "<Figure size 432x288 with 1 Axes>"
      ]
     },
     "metadata": {
      "needs_background": "light"
     },
     "output_type": "display_data"
    },
    {
     "name": "stdout",
     "output_type": "stream",
     "text": [
      "고객 평점 데이터는 평균이 54.0 이고, 표준편차가 23.0 인 정규분포를 따른다.\n",
      "---------------------------------------------------------------------------------\n"
     ]
    }
   ],
   "source": [
    "import scipy as sp\n",
    "import scipy.stats\n",
    "\n",
    "print(\"-정규분포--------------------------------------------------------------------------\")\n",
    "x_mean = round(np.mean(point))\n",
    "x_std = round(np.std(point))\n",
    "print(\"X의 평균 :\", x_mean, \", X의 표준편차 :\", x_std)\n",
    "y = ( 1 / (math.sqrt(2*math.pi) * x_std) ) * pow( np.e, (( -1 / 2 ) * pow( (point - x_mean) / x_std, 2)) )\n",
    "plt.scatter(point, y, color='green', marker=\".\", alpha=0.1)\n",
    "plt.title(\"probability density function / mean(\" + str(x_mean) + \") & std(\" + str(x_std) + \")\"   )\n",
    "plt.xlabel(\"point\")\n",
    "plt.ylabel(\"depth\")\n",
    "plt.show()\n",
    "print(\"고객 평점 데이터는 평균이\", x_mean, \"이고, 표준편차가\", x_std, \"인 정규분포를 따른다.\")\n",
    "print(\"---------------------------------------------------------------------------------\")"
   ]
  },
  {
   "cell_type": "code",
   "execution_count": 10,
   "metadata": {},
   "outputs": [
    {
     "name": "stdout",
     "output_type": "stream",
     "text": [
      "-표준정규분포에 따라 확률을 계산하자 1--------------------------------------------------------------------------\n",
      "고객 평점을 무작위로 뽑았을 때 10 점 이하일 확률 47.0\n",
      "고객 평점을 무작위로 뽑았을 때 10 점 이상일 확률 53.0\n",
      "전체 확률의 넓이는 1입니다. 100.0\n",
      "고객 평점을 무작위로 뽑았을 때 30 점 이하일 확률 35.0\n",
      "고객 평점을 무작위로 뽑았을 때 30 점 이상일 확률 65.0\n",
      "전체 확률의 넓이는 1입니다. 100.0\n",
      "고객 평점을 무작위로 뽑았을 때 50 점 이하일 확률 38.0\n",
      "고객 평점을 무작위로 뽑았을 때 50 점 이상일 확률 62.0\n",
      "전체 확률의 넓이는 1입니다. 100.0\n",
      "고객 평점을 무작위로 뽑았을 때 70 점 이하일 확률 25.0\n",
      "고객 평점을 무작위로 뽑았을 때 70 점 이상일 확률 75.0\n",
      "전체 확률의 넓이는 1입니다. 100.0\n",
      "고객 평점을 무작위로 뽑았을 때 99 점 이하일 확률 47.0\n",
      "고객 평점을 무작위로 뽑았을 때 99 점 이상일 확률 53.0\n",
      "전체 확률의 넓이는 1입니다. 100.0\n",
      "---------------------------------------------------------------------------------\n"
     ]
    }
   ],
   "source": [
    "print(\"-표준정규분포에 따라 확률을 계산하자 1--------------------------------------------------------------------------\")\n",
    "my_point = [10, 30, 50, 70, 99]\n",
    "my_z_value = np.array([0.4686, 0.3508, 0.3790, 0.2549, 0.4744])\n",
    "for prob in range( 5 ) :\n",
    "#     std_value = abs((my_point[prob] - x_mean) / x_std )\n",
    "#     print( \"표준화 값 :\", std_value )\n",
    "    print( \"고객 평점을 무작위로 뽑았을 때\", my_point[prob], \"점 이하일 확률\", round(my_z_value[prob]*100,0), )\n",
    "    print( \"고객 평점을 무작위로 뽑았을 때\", my_point[prob], \"점 이상일 확률\", round((1-my_z_value[prob])*100,0) )\n",
    "    print( \"전체 확률의 넓이는 1입니다.\", round(my_z_value[prob]*100,0) + round((1-my_z_value[prob])*100,0) )\n",
    "print(\"---------------------------------------------------------------------------------\")"
   ]
  },
  {
   "cell_type": "code",
   "execution_count": 9,
   "metadata": {},
   "outputs": [
    {
     "name": "stdout",
     "output_type": "stream",
     "text": [
      "-표준정규분포에 따라 확률을 계산하자 2--------------------------------------------------------------------------\n",
      "내일 고객의 평점을 95% 신뢰수준으로 예언했을 때, 평점 몇점이 사이로 나올까? 9.0 ~ 99.0 점\n",
      "---------------------------------------------------------------------------------\n"
     ]
    }
   ],
   "source": [
    "print(\"-표준정규분포에 따라 확률을 계산하자 2--------------------------------------------------------------------------\")\n",
    "std_value = abs((my_point[prob] - x_mean) / x_std )    \n",
    "if -1.96 <= std_value or std_value <= 1.96 :\n",
    "    range_x_low = round(((-1.96*x_std)+x_mean),0)\n",
    "    range_x_high = round(((1.96*x_std)+x_mean),0)\n",
    "    print(\"내일 고객의 평점을 95% 신뢰수준으로 예언했을 때, 평점 몇점이 사이로 나올까?\", range_x_low, \"~\", range_x_high, \"점\")\n",
    "else :\n",
    "    print(\"신뢰수준 95% 를 따르지 않습니다.\")\n",
    "print(\"---------------------------------------------------------------------------------\")"
   ]
  }
 ],
 "metadata": {
  "kernelspec": {
   "display_name": "Python 3",
   "language": "python",
   "name": "python3"
  },
  "language_info": {
   "codemirror_mode": {
    "name": "ipython",
    "version": 3
   },
   "file_extension": ".py",
   "mimetype": "text/x-python",
   "name": "python",
   "nbconvert_exporter": "python",
   "pygments_lexer": "ipython3",
   "version": "3.8.3"
  }
 },
 "nbformat": 4,
 "nbformat_minor": 4
}
