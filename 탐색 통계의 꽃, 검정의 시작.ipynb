{
 "cells": [
  {
   "cell_type": "code",
   "execution_count": 88,
   "metadata": {},
   "outputs": [],
   "source": [
    "# 검정(檢定) : 검사하여 인정하는 것\n",
    "import pandas as pd\n",
    "import numpy as np\n",
    "import random\n",
    "from scipy import stats as sp"
   ]
  },
  {
   "cell_type": "code",
   "execution_count": 89,
   "metadata": {},
   "outputs": [
    {
     "name": "stdout",
     "output_type": "stream",
     "text": [
      "독립성 검정 : 카테고리+카테고리 데이터 분석\n",
      "상관비 검정 : 카테고리+수치 데이터 분석\n",
      "무상관 검정 : 수치+수치 데이터 분석\n",
      "모평균 검정 : 두 광고의 한 달 수입 분석\n",
      "모비율 검정 : 검색 광고와 배너 광고의 한 달 수입 분석\n"
     ]
    }
   ],
   "source": [
    "# 검정 종류\n",
    "hypothesis = ['독립성 검정', '상관비 검정', '무상관 검정', '모평균 검정', '모비율 검정']\n",
    "desc = ['카테고리+카테고리 데이터 분석', '카테고리+수치 데이터 분석', '수치+수치 데이터 분석', '두 광고의 한 달 수입 분석', '검색 광고와 배너 광고의 한 달 수입 분석', '검색 광고와 배너 광고의 한 달 전환율 분석']\n",
    "\n",
    "for hypo in range( len(hypothesis) ) :\n",
    "    print(hypothesis[hypo], \":\", desc[hypo])\n"
   ]
  },
  {
   "cell_type": "code",
   "execution_count": 90,
   "metadata": {},
   "outputs": [
    {
     "data": {
      "text/plain": [
       "['모집단 정의',\n",
       " '귀무,대립 가설',\n",
       " '검정 종류 실시',\n",
       " '유의수준 결정',\n",
       " '표본데이터 검정통계량 구하기',\n",
       " '검정통계량 기각역 조사',\n",
       " '기각역기반 판단 결론']"
      ]
     },
     "execution_count": 90,
     "metadata": {},
     "output_type": "execute_result"
    }
   ],
   "source": [
    "# 검정의 순서\n",
    "\n",
    "hypo_steps = [\"모집단 정의\", \"귀무,대립 가설\", \"검정 종류 실시\", \"유의수준 결정\", \"표본데이터 검정통계량 구하기\", \"검정통계량 기각역 조사\", \"기각역기반 판단 결론\"]\n",
    "hypo_steps"
   ]
  },
  {
   "cell_type": "code",
   "execution_count": 101,
   "metadata": {},
   "outputs": [],
   "source": [
    "# 검정\n",
    "\n",
    "random_test = [] # random.randint(1, 10)\n",
    "random_range = []\n",
    "\n",
    "for i in range( 3 ) :\n",
    "    for j in range( 100 ) :\n",
    "        random_test.append( random.randint(1, 10) )\n",
    "        \n",
    "    random_range.append( random_test )\n",
    "    random_test = []\n",
    "\n",
    "ads = pd.DataFrame( random_range, index = [\"Google-ads\", \"Naver-ads\", \"Facebook-ads\"] ).T\n",
    "x = [4, 5, 7]"
   ]
  },
  {
   "cell_type": "code",
   "execution_count": 102,
   "metadata": {},
   "outputs": [
    {
     "data": {
      "text/plain": [
       "5.43"
      ]
     },
     "execution_count": 102,
     "metadata": {},
     "output_type": "execute_result"
    }
   ],
   "source": [
    "np.mean(ads['Google-ads'])"
   ]
  },
  {
   "cell_type": "code",
   "execution_count": 103,
   "metadata": {},
   "outputs": [
    {
     "name": "stdout",
     "output_type": "stream",
     "text": [
      "대립가설 채택 : Google-ads 는 평균 전환 값 4 이/가 맞습니다.\n",
      "귀무가설 채택 : Naver-ads 는 평균 전환 값 5 이/가 아닙니다.\n",
      "대립가설 채택 : Facebook-ads 는 평균 전환 값 7 이/가 맞습니다.\n"
     ]
    }
   ],
   "source": [
    "# 단일 T 검정\n",
    "# 표본이 하나일 때, 모집단의 평균과 표본 집단의 평균 사이에 차이가 있는지를 검증하는 방법\n",
    "\n",
    "# 전체 방문자 2,000명 각 매체별로 100명을 추려 각 매체의 전체 방문자의 평균 전환 수가 4(구글) / 5(네이버) / 7(페이스북) 개 라는 것을 증명\n",
    "# 귀무 가설 : 기존의 이론 (챔피언) <- (^^)\n",
    "# 대립 가설 : 새로운 이론 (도전자) <- 4/5/7 \n",
    "\n",
    "# 귀무가설과 대립가설을 설정할 때는 모집단의 비교값을 이용할 때도 있지만 내가 강하게 주장하는 새로운 내용이 대립가설이 될 수도 있다.\n",
    "\n",
    "one_t_Result_googleads = stats.ttest_1samp(ads['Google-ads'], 4) # 단일 표본\n",
    "one_t_Result_naverads = stats.ttest_1samp(ads['Naver-ads'], 5) # 단일 표본\n",
    "one_t_Result_facebookads = stats.ttest_1samp(ads['Facebook-ads'], 7) # 단일 표본\n",
    "\n",
    "one_t_Result = [ one_t_Result_googleads[1], one_t_Result_naverads[1], one_t_Result_facebookads[1] ]\n",
    "\n",
    "# 95% 유의수준\n",
    "# 1-0.95 = 0.05\n",
    "# 표현은 통계적으로 오류를 범할 가능성이 적다\n",
    "for i in range( 3 ) :\n",
    "    if 0.05 < one_t_Result[i] :\n",
    "        print( \"귀무가설 채택 :\", ads.columns[i], \"는 평균 전환 값\", x[i], \"이/가 아닙니다.\"  )\n",
    "    else :\n",
    "        print( \"대립가설 채택 :\", ads.columns[i], \"는 평균 전환 값\", x[i], \"이/가 맞습니다.\"  )"
   ]
  },
  {
   "cell_type": "code",
   "execution_count": 93,
   "metadata": {},
   "outputs": [
    {
     "name": "stdout",
     "output_type": "stream",
     "text": [
      "귀무가설 채택 : 네이버 짱\n",
      "귀무가설 채택 : 네이버 짱\n",
      "귀무가설 채택 : 구글 짱\n"
     ]
    }
   ],
   "source": [
    "# 다중 T 검정\n",
    "# 표본 집단이 하나 이상일 때, 두 표본 집단의 평균 사이에 차이가 있는지를 검증하는 방법\n",
    "\n",
    "# 구글과 네이버 광고\n",
    "# 귀무 가설: 두 매체중 네이버 광고가 더 유익한 매체입니다.\n",
    "# 대립 가설: 두 매체중 구글광고가 더 유익한 매체입니다.\n",
    "\n",
    "two_t_Result = stats.ttest_ind(random_range[0], random_range[1])\n",
    "\n",
    "# 95% 유의수준\n",
    "# 1-0.95 = 0.05\n",
    "# 표현은 통계적으로 오류를 범할 가능성이 적다\n",
    "if 0.05 < two_t_Result[1] :\n",
    "    print( \"귀무가설 채택 :\", \"네이버 짱\"  )\n",
    "else :\n",
    "    print( \"대립가설 채택 :\", \"구글 짱\"  )\n",
    "    \n",
    "# 네이버와 페이스북 광고\n",
    "# 귀무 가설: 두 매체중 네이버 광고가 더 유익한 매체입니다.\n",
    "# 대립 가설: 두 매체중 페이스북 광고가 더 유익한 매체입니다.\n",
    "\n",
    "two_t_Result = stats.ttest_ind(random_range[1], random_range[2])\n",
    "\n",
    "# 95% 유의수준\n",
    "# 1-0.95 = 0.05\n",
    "# 표현은 통계적으로 오류를 범할 가능성이 적다\n",
    "if 0.05 < two_t_Result[1] :\n",
    "    print( \"귀무가설 채택 :\", \"네이버 짱\"  )\n",
    "else :\n",
    "    print( \"대립가설 채택 :\", \"페이스북 짱\"  )\n",
    "    \n",
    "# 구글과 페이스북 광고\n",
    "# 귀무 가설: 두 매체중 구글 광고가 더 유익한 매체입니다.\n",
    "# 대립 가설: 두 매체중 페이스북 광고가 더 유익한 매체입니다.\n",
    "\n",
    "two_t_Result = stats.ttest_ind(random_range[0], random_range[2])\n",
    "\n",
    "# 95% 유의수준\n",
    "# 1-0.95 = 0.05\n",
    "# 표현은 통계적으로 오류를 범할 가능성이 적다\n",
    "if 0.05 < two_t_Result[1] :\n",
    "    print( \"귀무가설 채택 :\", \"구글 짱\"  )\n",
    "else :\n",
    "    print( \"대립가설 채택 :\", \"페이스북 짱\"  )"
   ]
  },
  {
   "cell_type": "code",
   "execution_count": 94,
   "metadata": {},
   "outputs": [
    {
     "name": "stdout",
     "output_type": "stream",
     "text": [
      "귀무가설 채택 : 기존에 하던 광고나 제대로 합시다\n"
     ]
    }
   ],
   "source": [
    "# 대응 T 검정\n",
    "# 표본 집단간의 전/후 관계 \n",
    "\n",
    "# 페이스북에서 구글로 예산을 변경하고, 나온 결과를 토대로 앞으로 의사결정을 하려고 함\n",
    "# 귀무 가설: 광고 매체의 비용을 바꿨더니 수익이 소폭 상승하지 않은 것 같습니다.\n",
    "# 대립 가설: 광고 매체의 비용을 바꿨더니 수익이 소폭 상승한 것 같습니다.\n",
    "three_t_Result = stats.ttest_rel(random_range[1], random_range[2])\n",
    "\n",
    "# 95% 유의수준\n",
    "# 1-0.95 = 0.05\n",
    "# 표현은 통계적으로 오류를 범할 가능성이 적다\n",
    "if 0.05 < three_t_Result[1] :\n",
    "    print( \"귀무가설 채택 :\", \"기존에 하던 광고나 제대로 합시다\"  )\n",
    "else :\n",
    "    print( \"대립가설 채택 :\", \"역시, 새로운 광고 매체를 활용한 것이 신의 한 수!\"  )\n"
   ]
  }
 ],
 "metadata": {
  "kernelspec": {
   "display_name": "Python 3",
   "language": "python",
   "name": "python3"
  },
  "language_info": {
   "codemirror_mode": {
    "name": "ipython",
    "version": 3
   },
   "file_extension": ".py",
   "mimetype": "text/x-python",
   "name": "python",
   "nbconvert_exporter": "python",
   "pygments_lexer": "ipython3",
   "version": "3.8.3"
  }
 },
 "nbformat": 4,
 "nbformat_minor": 4
}
